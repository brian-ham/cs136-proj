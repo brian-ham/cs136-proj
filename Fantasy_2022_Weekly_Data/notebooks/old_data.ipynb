{
 "cells": [
  {
   "cell_type": "code",
   "execution_count": 1,
   "metadata": {},
   "outputs": [],
   "source": [
    "import numpy as np\n",
    "import pandas as pd\n",
    "import matplotlib.pyplot as plt"
   ]
  },
  {
   "cell_type": "code",
   "execution_count": 3,
   "metadata": {},
   "outputs": [],
   "source": [
    "old_qb = pd.read_csv('../old_qb.csv')\n",
    "old_wr = pd.read_csv('../old_wr.csv')\n",
    "old_rb = pd.read_csv('../old_rb.csv')\n",
    "old_te = pd.read_csv('../old_te.csv')\n",
    "old_def = pd.read_csv('../old_def.csv')\n",
    "old_k = pd.read_csv('../old_k.csv')"
   ]
  },
  {
   "cell_type": "code",
   "execution_count": 5,
   "metadata": {},
   "outputs": [
    {
     "data": {
      "text/html": [
       "<div>\n",
       "<style scoped>\n",
       "    .dataframe tbody tr th:only-of-type {\n",
       "        vertical-align: middle;\n",
       "    }\n",
       "\n",
       "    .dataframe tbody tr th {\n",
       "        vertical-align: top;\n",
       "    }\n",
       "\n",
       "    .dataframe thead th {\n",
       "        text-align: right;\n",
       "    }\n",
       "</style>\n",
       "<table border=\"1\" class=\"dataframe\">\n",
       "  <thead>\n",
       "    <tr style=\"text-align: right;\">\n",
       "      <th></th>\n",
       "      <th>Player</th>\n",
       "      <th>FPTS</th>\n",
       "    </tr>\n",
       "  </thead>\n",
       "  <tbody>\n",
       "    <tr>\n",
       "      <th>0</th>\n",
       "      <td>Josh Allen (BUF)</td>\n",
       "      <td>417.7</td>\n",
       "    </tr>\n",
       "    <tr>\n",
       "      <th>1</th>\n",
       "      <td>Justin Herbert (LAC)</td>\n",
       "      <td>395.6</td>\n",
       "    </tr>\n",
       "    <tr>\n",
       "      <th>2</th>\n",
       "      <td>Tom Brady (FA)</td>\n",
       "      <td>386.7</td>\n",
       "    </tr>\n",
       "    <tr>\n",
       "      <th>3</th>\n",
       "      <td>Patrick Mahomes II (KC)</td>\n",
       "      <td>374.2</td>\n",
       "    </tr>\n",
       "    <tr>\n",
       "      <th>4</th>\n",
       "      <td>Matthew Stafford (LAR)</td>\n",
       "      <td>346.8</td>\n",
       "    </tr>\n",
       "  </tbody>\n",
       "</table>\n",
       "</div>"
      ],
      "text/plain": [
       "                    Player   FPTS\n",
       "0         Josh Allen (BUF)  417.7\n",
       "1     Justin Herbert (LAC)  395.6\n",
       "2           Tom Brady (FA)  386.7\n",
       "3  Patrick Mahomes II (KC)  374.2\n",
       "4   Matthew Stafford (LAR)  346.8"
      ]
     },
     "execution_count": 5,
     "metadata": {},
     "output_type": "execute_result"
    }
   ],
   "source": [
    "# drop all columsn except Player and FPTS\n",
    "old_qb = old_qb[['Player', 'FPTS']]\n",
    "old_wr = old_wr[['Player', 'FPTS']]\n",
    "old_rb = old_rb[['Player', 'FPTS']]\n",
    "old_te = old_te[['Player', 'FPTS']]\n",
    "old_def = old_def[['Player', 'FPTS']]\n",
    "old_k = old_k[['Player', 'FPTS']]"
   ]
  },
  {
   "cell_type": "code",
   "execution_count": null,
   "metadata": {},
   "outputs": [],
   "source": [
    "# export to file called old_qb_cleaned.csv\n",
    "old_qb.to_csv('../old_qb_cleaned.csv', index=False)"
   ]
  }
 ],
 "metadata": {
  "kernelspec": {
   "display_name": "Python 3",
   "language": "python",
   "name": "python3"
  },
  "language_info": {
   "codemirror_mode": {
    "name": "ipython",
    "version": 3
   },
   "file_extension": ".py",
   "mimetype": "text/x-python",
   "name": "python",
   "nbconvert_exporter": "python",
   "pygments_lexer": "ipython3",
   "version": "3.11.3"
  }
 },
 "nbformat": 4,
 "nbformat_minor": 2
}
