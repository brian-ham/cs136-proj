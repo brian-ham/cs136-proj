{
 "cells": [
  {
   "cell_type": "code",
   "execution_count": 27,
   "metadata": {},
   "outputs": [],
   "source": [
    "import numpy as np\n",
    "import pandas as pd\n",
    "import os"
   ]
  },
  {
   "cell_type": "code",
   "execution_count": 28,
   "metadata": {},
   "outputs": [
    {
     "data": {
      "text/html": [
       "<div>\n",
       "<style scoped>\n",
       "    .dataframe tbody tr th:only-of-type {\n",
       "        vertical-align: middle;\n",
       "    }\n",
       "\n",
       "    .dataframe tbody tr th {\n",
       "        vertical-align: top;\n",
       "    }\n",
       "\n",
       "    .dataframe thead th {\n",
       "        text-align: right;\n",
       "    }\n",
       "</style>\n",
       "<table border=\"1\" class=\"dataframe\">\n",
       "  <thead>\n",
       "    <tr style=\"text-align: right;\">\n",
       "      <th></th>\n",
       "      <th>Player</th>\n",
       "      <th>FPTS</th>\n",
       "      <th>Position</th>\n",
       "      <th>Price</th>\n",
       "    </tr>\n",
       "  </thead>\n",
       "  <tbody>\n",
       "    <tr>\n",
       "      <th>769</th>\n",
       "      <td>Las Vegas Raiders</td>\n",
       "      <td>65.0</td>\n",
       "      <td>dst</td>\n",
       "      <td>0.0</td>\n",
       "    </tr>\n",
       "    <tr>\n",
       "      <th>770</th>\n",
       "      <td>Atlanta Falcons</td>\n",
       "      <td>65.0</td>\n",
       "      <td>dst</td>\n",
       "      <td>0.0</td>\n",
       "    </tr>\n",
       "    <tr>\n",
       "      <th>771</th>\n",
       "      <td>Jacksonville Jaguars</td>\n",
       "      <td>64.0</td>\n",
       "      <td>dst</td>\n",
       "      <td>0.0</td>\n",
       "    </tr>\n",
       "    <tr>\n",
       "      <th>772</th>\n",
       "      <td>New York Jets</td>\n",
       "      <td>58.0</td>\n",
       "      <td>dst</td>\n",
       "      <td>0.0</td>\n",
       "    </tr>\n",
       "    <tr>\n",
       "      <th>773</th>\n",
       "      <td>Detroit Lions</td>\n",
       "      <td>58.0</td>\n",
       "      <td>dst</td>\n",
       "      <td>0.0</td>\n",
       "    </tr>\n",
       "  </tbody>\n",
       "</table>\n",
       "</div>"
      ],
      "text/plain": [
       "                   Player  FPTS Position  Price\n",
       "769     Las Vegas Raiders  65.0      dst    0.0\n",
       "770       Atlanta Falcons  65.0      dst    0.0\n",
       "771  Jacksonville Jaguars  64.0      dst    0.0\n",
       "772         New York Jets  58.0      dst    0.0\n",
       "773         Detroit Lions  58.0      dst    0.0"
      ]
     },
     "execution_count": 28,
     "metadata": {},
     "output_type": "execute_result"
    }
   ],
   "source": [
    "df = pd.read_csv(\"../2021/old_allplayers.csv\")\n",
    "df.tail()"
   ]
  },
  {
   "cell_type": "code",
   "execution_count": 29,
   "metadata": {},
   "outputs": [],
   "source": [
    "# make the \"Player\" column the index, without including \"Player\" in the index\n",
    "df = df.set_index('Player').rename_axis(None)"
   ]
  },
  {
   "cell_type": "code",
   "execution_count": 32,
   "metadata": {},
   "outputs": [],
   "source": [
    "# make a Value column that is FPTS divided by 18 truncated to 2 decimal places\n",
    "df['Value'] = df['FPTS']/18"
   ]
  },
  {
   "cell_type": "code",
   "execution_count": 33,
   "metadata": {},
   "outputs": [
    {
     "data": {
      "text/html": [
       "<div>\n",
       "<style scoped>\n",
       "    .dataframe tbody tr th:only-of-type {\n",
       "        vertical-align: middle;\n",
       "    }\n",
       "\n",
       "    .dataframe tbody tr th {\n",
       "        vertical-align: top;\n",
       "    }\n",
       "\n",
       "    .dataframe thead th {\n",
       "        text-align: right;\n",
       "    }\n",
       "</style>\n",
       "<table border=\"1\" class=\"dataframe\">\n",
       "  <thead>\n",
       "    <tr style=\"text-align: right;\">\n",
       "      <th></th>\n",
       "      <th>FPTS</th>\n",
       "      <th>Position</th>\n",
       "      <th>Price</th>\n",
       "      <th>Value</th>\n",
       "    </tr>\n",
       "  </thead>\n",
       "  <tbody>\n",
       "    <tr>\n",
       "      <th>Josh Allen</th>\n",
       "      <td>417.7</td>\n",
       "      <td>qb</td>\n",
       "      <td>3.18</td>\n",
       "      <td>23.205556</td>\n",
       "    </tr>\n",
       "    <tr>\n",
       "      <th>Justin Herbert</th>\n",
       "      <td>395.6</td>\n",
       "      <td>qb</td>\n",
       "      <td>3.01</td>\n",
       "      <td>21.977778</td>\n",
       "    </tr>\n",
       "    <tr>\n",
       "      <th>Tom Brady</th>\n",
       "      <td>386.7</td>\n",
       "      <td>qb</td>\n",
       "      <td>2.94</td>\n",
       "      <td>21.483333</td>\n",
       "    </tr>\n",
       "    <tr>\n",
       "      <th>Patrick Mahomes II</th>\n",
       "      <td>374.2</td>\n",
       "      <td>qb</td>\n",
       "      <td>2.84</td>\n",
       "      <td>20.788889</td>\n",
       "    </tr>\n",
       "    <tr>\n",
       "      <th>Matthew Stafford</th>\n",
       "      <td>346.8</td>\n",
       "      <td>qb</td>\n",
       "      <td>2.63</td>\n",
       "      <td>19.266667</td>\n",
       "    </tr>\n",
       "  </tbody>\n",
       "</table>\n",
       "</div>"
      ],
      "text/plain": [
       "                     FPTS Position  Price      Value\n",
       "Josh Allen          417.7       qb   3.18  23.205556\n",
       "Justin Herbert      395.6       qb   3.01  21.977778\n",
       "Tom Brady           386.7       qb   2.94  21.483333\n",
       "Patrick Mahomes II  374.2       qb   2.84  20.788889\n",
       "Matthew Stafford    346.8       qb   2.63  19.266667"
      ]
     },
     "execution_count": 33,
     "metadata": {},
     "output_type": "execute_result"
    }
   ],
   "source": [
    "df.head()"
   ]
  },
  {
   "cell_type": "code",
   "execution_count": 34,
   "metadata": {},
   "outputs": [],
   "source": [
    "# export to ../2021/allplayers.csv\n",
    "df.to_csv(\"../2021/player_list.csv\")"
   ]
  },
  {
   "cell_type": "code",
   "execution_count": 35,
   "metadata": {},
   "outputs": [
    {
     "name": "stdout",
     "output_type": "stream",
     "text": [
      "Index(['Josh Allen', 'Justin Herbert', 'Tom Brady', 'Patrick Mahomes II',\n",
      "       'Matthew Stafford', 'Aaron Rodgers', 'Dak Prescott', 'Joe Burrow',\n",
      "       'Jalen Hurts', 'Kyler Murray',\n",
      "       ...\n",
      "       'Carolina Panthers', 'Houston Texans', 'New York Giants',\n",
      "       'Baltimore Ravens', 'Los Angeles Chargers', 'Las Vegas Raiders',\n",
      "       'Atlanta Falcons', 'Jacksonville Jaguars', 'New York Jets',\n",
      "       'Detroit Lions'],\n",
      "      dtype='object', length=774)\n"
     ]
    }
   ],
   "source": [
    "print(df.index)"
   ]
  },
  {
   "cell_type": "code",
   "execution_count": null,
   "metadata": {},
   "outputs": [],
   "source": []
  }
 ],
 "metadata": {
  "kernelspec": {
   "display_name": "Python 3",
   "language": "python",
   "name": "python3"
  },
  "language_info": {
   "codemirror_mode": {
    "name": "ipython",
    "version": 3
   },
   "file_extension": ".py",
   "mimetype": "text/x-python",
   "name": "python",
   "nbconvert_exporter": "python",
   "pygments_lexer": "ipython3",
   "version": "3.11.3"
  }
 },
 "nbformat": 4,
 "nbformat_minor": 2
}
