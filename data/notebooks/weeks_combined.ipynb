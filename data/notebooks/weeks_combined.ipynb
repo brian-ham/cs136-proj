{
 "cells": [
  {
   "cell_type": "code",
   "execution_count": 1,
   "metadata": {},
   "outputs": [],
   "source": [
    "import numpy as np\n",
    "import pandas as pd\n",
    "import matplotlib.pyplot as plt\n",
    "import os"
   ]
  },
  {
   "cell_type": "code",
   "execution_count": 9,
   "metadata": {},
   "outputs": [],
   "source": [
    "drs = [\"qb\", \"rb\", \"wr\", \"te\", \"dst\", \"k\"]\n",
    "\n",
    "# initialize 14 blank dataframes\n",
    "dfs = [pd.DataFrame(columns=[\"Player\", \"FPTS\", \"FPTS/G\", \"ROST\"]) for i in range(14)]\n",
    "\n",
    "for dr in drs:\n",
    "    folder_path = '../' + dr\n",
    "    for (i, file) in enumerate([f for f in os.listdir(folder_path) if os.path.isfile(os.path.join(folder_path, f))]):\n",
    "        df = pd.read_csv(os.path.join(folder_path, file))\n",
    "        dfs[i] = pd.concat([dfs[i], df]).reset_index(drop=True)\n",
    "    \n",
    "# drop all NA rows for all dfs\n",
    "for df in dfs:\n",
    "    df.dropna(inplace=True)\n",
    "\n",
    "# write out each of the dfs to a csv in the format week_1.csv, week_2.csv, etc.\n",
    "for (i, df) in enumerate(dfs):\n",
    "    df.to_csv('../weeks/week_' + str(i + 1) + '.csv', index=False)"
   ]
  }
 ],
 "metadata": {
  "kernelspec": {
   "display_name": "Python 3",
   "language": "python",
   "name": "python3"
  },
  "language_info": {
   "codemirror_mode": {
    "name": "ipython",
    "version": 3
   },
   "file_extension": ".py",
   "mimetype": "text/x-python",
   "name": "python",
   "nbconvert_exporter": "python",
   "pygments_lexer": "ipython3",
   "version": "3.11.3"
  }
 },
 "nbformat": 4,
 "nbformat_minor": 2
}
