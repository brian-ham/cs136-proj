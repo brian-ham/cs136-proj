{
 "cells": [
  {
   "cell_type": "code",
   "execution_count": 38,
   "metadata": {},
   "outputs": [],
   "source": [
    "import numpy as np\n",
    "import pandas as pd\n",
    "import matplotlib.pyplot as plt\n",
    "import os"
   ]
  },
  {
   "cell_type": "code",
   "execution_count": 34,
   "metadata": {},
   "outputs": [],
   "source": [
    "old_qb = pd.read_csv('../old_qb.csv')\n",
    "old_wr = pd.read_csv('../old_wr.csv')\n",
    "old_rb = pd.read_csv('../old_rb.csv')\n",
    "old_te = pd.read_csv('../old_te.csv')\n",
    "old_dst = pd.read_csv('../old_dst.csv')\n",
    "old_k = pd.read_csv('../old_k.csv')"
   ]
  },
  {
   "cell_type": "code",
   "execution_count": 35,
   "metadata": {},
   "outputs": [],
   "source": [
    "# drop all columsn except Player and FPTS\n",
    "old_qb = old_qb[['Player', 'FPTS']]\n",
    "old_wr = old_wr[['Player', 'FPTS']]\n",
    "old_rb = old_rb[['Player', 'FPTS']]\n",
    "old_te = old_te[['Player', 'FPTS']]\n",
    "old_dst = old_dst[['Player', 'FPTS']]\n",
    "old_k = old_k[['Player', 'FPTS']]"
   ]
  },
  {
   "cell_type": "code",
   "execution_count": 36,
   "metadata": {},
   "outputs": [],
   "source": [
    "# for all values in the Player column, cut out the final word (separated by spaces)\n",
    "old_qb['Player'] = old_qb['Player'].str.replace(r'\\(.*?\\)', '', regex=True).str.strip()\n",
    "old_wr['Player'] = old_wr['Player'].str.replace(r'\\(.*?\\)', '', regex=True).str.strip()\n",
    "old_rb['Player'] = old_rb['Player'].str.replace(r'\\(.*?\\)', '', regex=True).str.strip()\n",
    "old_te['Player'] = old_te['Player'].str.replace(r'\\(.*?\\)', '', regex=True).str.strip()\n",
    "old_dst['Player'] = old_dst['Player'].str.replace(r'\\(.*?\\)', '', regex=True).str.strip()\n",
    "old_k['Player'] = old_k['Player'].str.replace(r'\\(.*?\\)', '', regex=True).str.strip()"
   ]
  },
  {
   "cell_type": "code",
   "execution_count": 37,
   "metadata": {},
   "outputs": [],
   "source": [
    "# export to file called old_qb_cleaned.csv\n",
    "old_qb.to_csv('../old_qb_cleaned.csv', index=False)\n",
    "old_wr.to_csv('../old_wr_cleaned.csv', index=False)\n",
    "old_rb.to_csv('../old_rb_cleaned.csv', index=False)\n",
    "old_te.to_csv('../old_te_cleaned.csv', index=False)\n",
    "old_dst.to_csv('../old_dst_cleaned.csv', index=False)\n",
    "old_k.to_csv('../old_k_cleaned.csv', index=False)"
   ]
  },
  {
   "cell_type": "code",
   "execution_count": 39,
   "metadata": {},
   "outputs": [],
   "source": [
    "# Strip all unnecessary columns / player names from the 2022 data\n",
    "\n",
    "drs = [\"qb\", \"wr\", \"rb\", \"te\", \"dst\", \"k\"]\n",
    "for dr in drs:\n",
    "    folder_path = '../' + dr\n",
    "    for file in [f for f in os.listdir(folder_path) if os.path.isfile(os.path.join(folder_path, f))]:\n",
    "        df = pd.read_csv(os.path.join(folder_path, file))\n",
    "        df = df[['Player', 'FPTS', 'FPTS/G', 'ROST']]\n",
    "        df['Player'] = df['Player'].str.replace(r'\\(.*?\\)', '', regex=True).str.strip()\n",
    "        df.to_csv(os.path.join(folder_path, file), index=False)"
   ]
  },
  {
   "cell_type": "code",
   "execution_count": null,
   "metadata": {},
   "outputs": [],
   "source": [
    "# for dr in drs:\n",
    "#     folder_path = '../' + dr\n",
    "#     names_list = []\n",
    "#     for file in [f for f in os.listdir(folder_path) if os.path.isfile(os.path.join(folder_path, f))]:\n",
    "#         names_list += pd.read_csv(os.path.join(folder_path, file))['Player'].tolist()\n",
    "#     # turn list of names into a count dictionary\n",
    "#     names_dict = {}\n",
    "#     for name in names_list:\n",
    "#         names_dict[name] = names_dict.get(name, 0) + 1\n",
    "#     # only keep the names with count 14\n",
    "#     constant_names = {k: v for k, v in names_dict.items() if v == 14}.values()\n"
   ]
  }
 ],
 "metadata": {
  "kernelspec": {
   "display_name": "Python 3",
   "language": "python",
   "name": "python3"
  },
  "language_info": {
   "codemirror_mode": {
    "name": "ipython",
    "version": 3
   },
   "file_extension": ".py",
   "mimetype": "text/x-python",
   "name": "python",
   "nbconvert_exporter": "python",
   "pygments_lexer": "ipython3",
   "version": "3.11.3"
  }
 },
 "nbformat": 4,
 "nbformat_minor": 2
}
